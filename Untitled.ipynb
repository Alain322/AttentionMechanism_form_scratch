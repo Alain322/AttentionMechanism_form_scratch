{
 "cells": [
  {
   "cell_type": "code",
   "execution_count": 25,
   "id": "a6df4250-696a-49e3-be58-eb54c572577b",
   "metadata": {},
   "outputs": [],
   "source": [
    "import torch"
   ]
  },
  {
   "cell_type": "code",
   "execution_count": 31,
   "id": "7b02fad5-0787-4e7f-828d-43c983367cbd",
   "metadata": {},
   "outputs": [],
   "source": [
    "dataset = 'Life is short, eat dessert first'"
   ]
  },
  {
   "cell_type": "markdown",
   "id": "19d4056d-1cda-4fc8-801c-20a6139fd2c1",
   "metadata": {},
   "source": [
    "### Embedding an Input Sentence\n",
    "* 1. make a dataset vocabulary\n",
    "* 2. Assign an integer index to each word using torch\n",
    "* 3. use an embedding layer to encode the inputs into a real-vector embedding"
   ]
  },
  {
   "cell_type": "code",
   "execution_count": 35,
   "id": "02739eec-aa11-467e-bbcd-3c15d584894f",
   "metadata": {},
   "outputs": [
    {
     "name": "stdout",
     "output_type": "stream",
     "text": [
      "{'Life': 0, 'dessert': 1, 'eat': 2, 'first': 3, 'is': 4, 'short': 5}\n"
     ]
    }
   ],
   "source": [
    "dataset_ = dataset.replace(',', '').split()\n",
    "dataset_ = {s:i for i,s in enumerate(sorted(dataset_))}\n",
    "print(dic)"
   ]
  },
  {
   "cell_type": "code",
   "execution_count": 37,
   "id": "386c0e04-d748-4385-bb50-6494d43a22f9",
   "metadata": {},
   "outputs": [
    {
     "name": "stdout",
     "output_type": "stream",
     "text": [
      "tensor([0, 4, 5, 2, 1, 3])\n"
     ]
    }
   ],
   "source": [
    "dataset_int = torch.tensor([dataset_[s] for s in dataset.replace(',', '').split()])\n",
    "print(dataset_int)"
   ]
  },
  {
   "cell_type": "code",
   "execution_count": 42,
   "id": "a1a8bd6f-92c3-4c1d-9175-217b55cae77d",
   "metadata": {},
   "outputs": [
    {
     "data": {
      "text/plain": [
       "tensor([[ 0.3374, -0.1778, -0.3035, -0.5880,  0.3486,  0.6603, -0.2196, -0.3792,\n",
       "          0.7671, -1.1925,  0.6984, -1.4097,  0.1794,  1.8951,  0.4954,  0.2692],\n",
       "        [ 0.5146,  0.9938, -0.2587, -1.0826, -0.0444,  1.6236, -2.3229,  1.0878,\n",
       "          0.6716,  0.6933, -0.9487, -0.0765, -0.1526,  0.1167,  0.4403, -1.4465],\n",
       "        [ 0.2553, -0.5496,  1.0042,  0.8272, -0.3948,  0.4892, -0.2168, -1.7472,\n",
       "         -1.6025, -1.0764,  0.9031, -0.7218, -0.5951, -0.7112,  0.6230, -1.3729],\n",
       "        [-1.3250,  0.1784, -2.1338,  1.0524, -0.3885, -0.9343, -0.4991, -1.0867,\n",
       "          0.8805,  1.5542,  0.6266, -0.1755,  0.0983, -0.0935,  0.2662, -0.5850],\n",
       "        [-0.0770, -1.0205, -0.1690,  0.9178,  1.5810,  1.3010,  1.2753, -0.2010,\n",
       "          0.4965, -1.5723,  0.9666, -1.1481, -1.1589,  0.3255, -0.6315, -2.8400],\n",
       "        [ 0.8768,  1.6221, -1.4779,  1.1331, -1.2203,  1.3139,  1.0533,  0.1388,\n",
       "          2.2473, -0.8036, -0.2808,  0.7697, -0.6596, -0.7979,  0.1838,  0.2293]])"
      ]
     },
     "execution_count": 42,
     "metadata": {},
     "output_type": "execute_result"
    }
   ],
   "source": [
    "torch.manual_seed(123)\n",
    "embed_nn = torch.nn.Embedding(6,  16)\n",
    "embedded_data = embed_nn(dataset_int).detach()\n",
    "embedded_data"
   ]
  },
  {
   "cell_type": "code",
   "execution_count": null,
   "id": "10c5b1bb-ee5f-4d0b-ae79-1b12833415ea",
   "metadata": {},
   "outputs": [],
   "source": []
  }
 ],
 "metadata": {
  "kernelspec": {
   "display_name": "Python 3 (ipykernel)",
   "language": "python",
   "name": "python3"
  },
  "language_info": {
   "codemirror_mode": {
    "name": "ipython",
    "version": 3
   },
   "file_extension": ".py",
   "mimetype": "text/x-python",
   "name": "python",
   "nbconvert_exporter": "python",
   "pygments_lexer": "ipython3",
   "version": "3.9.13"
  },
  "widgets": {
   "application/vnd.jupyter.widget-state+json": {
    "state": {},
    "version_major": 2,
    "version_minor": 0
   }
  }
 },
 "nbformat": 4,
 "nbformat_minor": 5
}
